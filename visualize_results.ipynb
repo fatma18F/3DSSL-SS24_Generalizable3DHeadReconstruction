{
 "cells": [
  {
   "cell_type": "code",
   "execution_count": null,
   "metadata": {},
   "outputs": [],
   "source": [
    "import pytorch_lightning as L\n",
    "from model.gauss_predictor import GaussPredictor\n",
    "from model.gauss_predictor_with_latent_codes import GaussPredictorWithLatentCodes\n",
    "from data_processing.data_module import FaceDataModule\n",
    "from pytorch_lightning.loggers import WandbLogger\n",
    "import yaml\n",
    "from datetime import datetime\n",
    "from pytorch_lightning.callbacks.early_stopping import EarlyStopping\n",
    "from pytorch_lightning.callbacks.model_checkpoint import ModelCheckpoint\n",
    "import time\n",
    "\n",
    "config = yaml.safe_load(open('./configs/settings_latent_codes.yaml', 'r'))\n",
    "face_data_module = FaceDataModule(config=config)\n",
    "face_data_module.setup('fit')\n",
    "\n",
    "if config['model']['model_parameters']['latent_codes']['enabled']:\n",
    "    model_class = GaussPredictorWithLatentCodes\n",
    "else:\n",
    "    model_class = GaussPredictor\n",
    "\n",
    "# load or create model\n",
    "if config['model']['checkpoint']:\n",
    "    gauss_predictor = model_class.load_from_checkpoint(config['model']['checkpoint'], config=config, data_module=face_data_module)\n",
    "else:\n",
    "    gauss_predictor = model_class(config=config, data_module=face_data_module)\n",
    "\n",
    "trainer = L.Trainer(\n",
    "    max_epochs=config['training']['max_epochs'], \n",
    "    accelerator=\"gpu\", \n",
    "    devices=1, \n",
    "    logger=wandb_logger, \n",
    "    default_root_dir='./checkpoints/',\n",
    "    reload_dataloaders_every_n_epochs=1,\n",
    "    log_every_n_steps=1,\n",
    "    callbacks=[\n",
    "        EarlyStopping(monitor=\"val/loss/rendering\", mode=\"min\", patience=50),\n",
    "        ModelCheckpoint(monitor=\"val/loss/rendering\", mode=\"min\", filename=\"{epoch:02d}\", save_top_k=5)\n",
    "    ]\n",
    ")\n",
    "trainer.fit(gauss_predictor, datamodule=face_data_module)"
   ]
  }
 ],
 "metadata": {
  "language_info": {
   "name": "python"
  }
 },
 "nbformat": 4,
 "nbformat_minor": 2
}
