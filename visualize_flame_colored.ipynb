{
 "cells": [
  {
   "cell_type": "code",
   "execution_count": 1,
   "metadata": {},
   "outputs": [
    {
     "name": "stdout",
     "output_type": "stream",
     "text": [
      "Jupyter environment detected. Enabling Open3D WebVisualizer.\n",
      "[Open3D INFO] WebRTC GUI backend enabled.\n",
      "[Open3D INFO] WebRTCWindowSystem: HTTP handshake server disabled.\n"
     ]
    }
   ],
   "source": [
    "from flame.flame_model_creation import FlameModelCreation\n",
    "from data_processing.dataset import FaceDataset\n",
    "from gaussian_splatting.utils.graphics_utils import BasicPointCloud\n",
    "import torch\n",
    "import k3d\n",
    "import yaml\n",
    "import numpy as np\n",
    "import os\n",
    "from gaussian_splatting.utils.sh_utils import SH2RGB\n",
    "\n",
    "os.environ[\"DISPLAY\"] = \":10.0\""
   ]
  },
  {
   "cell_type": "code",
   "execution_count": 2,
   "metadata": {},
   "outputs": [
    {
     "name": "stdout",
     "output_type": "stream",
     "text": [
      "train self.face_ids ['017', '018', '024', '030', '031', '032', '033', '035', '036', '037', '038', '040', '042', '043', '055', '056', '057', '058', '060', '061', '063', '064', '065', '067', '068', '068', '069', '071', '072', '073', '074', '075', '076', '077', '078', '079', '080', '081', '082', '083', '085', '088', '089', '090', '091', '092', '093', '094', '095', '096', '097', '098', '099', '100', '102', '104', '105', '106', '107', '108', '109', '110', '111', '112', '113', '114', '115', '116', '117', '120', '121', '122', '123', '124', '125', '126', '127', '128', '129', '130', '131', '132', '133', '134', '135', '136', '137', '138', '139', '140', '141', '142', '143', '144', '145', '146', '147', '148', '149', '150', '151', '162', '163', '164', '165', '166', '167', '168', '170', '171', '172', '173', '174', '175', '176', '177', '178', '179', '180', '181', '182', '183', '184', '185', '186', '187', '188', '189', '191', '192', '193', '194', '195', '197', '198', '199', '200', '201', '202', '203', '204', '205', '206', '207', '208', '209', '210', '211', '212', '214', '215', '216', '217', '218', '220', '221', '222', '223', '224', '225', '226', '227', '228', '229', '230', '231', '232', '233', '234', '235', '236', '237', '238', '239', '240', '241', '242', '243', '244', '245', '246', '247', '248', '249', '250', '251', '252', '253', '254', '255', '256', '257', '258', '259', '260', '261', '262', '263', '264', '266', '267', '269', '270', '271', '272', '274', '275', '276', '277', '278', '280', '281', '282', '283', '284', '285', '286', '287', '288', '289', '290', '293', '294', '295', '297', '298', '299', '301', '302', '303', '304', '305', '306', '307', '308', '309', '310', '311', '312', '313', '314', '315', '316', '317', '318', '319', '320', '321', '322', '323', '324', '325', '326', '327', '328', '329', '330', '331', '332', '333']\n"
     ]
    }
   ],
   "source": [
    "face_dataset = FaceDataset(yaml.safe_load(open('./configs/settings.yaml', 'r')))\n",
    "\n",
    "def get_aligned_pointcloud(flame_params_path):\n",
    "    vertices = FlameModelCreation.create_flame_model(flame_params_path, upsample_flame_iterations=1)\n",
    "    pointlcoud = BasicPointCloud(vertices, torch.randn((len(vertices), 3)), None)\n",
    "    \n",
    "    #new_pointcloud = FaceDataset.normalize_flame_and_cameras(None, pointlcoud, None)\n",
    "    \n",
    "    return pointlcoud\n",
    "\n",
    "def get_images(flame_params_path, camera_params):\n",
    "    image_path = flame_params_path[:flame_params_path.find('/annotations/')]\n",
    "    image_path += f\"/timesteps/frame_00000/images-2x\"\n",
    "    return face_dataset.get_images({'images_path': image_path}, camera_params)\n",
    "\n",
    "#def get_farl_features(flame_params_path, )\n",
    "\n",
    "def get_translated_camera_params(flame_params_path):\n",
    "    camera_params_path = flame_params_path[:flame_params_path.find('/sequences/')]\n",
    "    camera_params_path += f\"/calibration/camera_params.json\"\n",
    "    camera_params = face_dataset.get_camera_params({'camera_params_path': camera_params_path})\n",
    "    face_dataset.scale_and_rotate_camera_params(camera_params, {'flame_params_path': flame_params_path})\n",
    "    \n",
    "    return camera_params\n",
    "\n",
    "def get_colored_gaussians(flame_params_path, pointcloud, camera_params, images):\n",
    "    image_path = flame_params_path[:flame_params_path.find('/annotations/')]\n",
    "    image_path += f\"/timesteps/frame_00000/gaussian_colors.npy\"\n",
    "    input_serials = [\"222200036\", \"222200049\"]\n",
    "    return face_dataset.get_projected_colors({'gaussian_colors_path': image_path}, camera_params, pointcloud, {serial: image for serial, image in images.items() if serial in input_serials})\n",
    "\n",
    "\n",
    "def get_farl_gaussians(flame_params_path, pointcloud, camera_params, images):\n",
    "    farl_path = flame_params_path[:flame_params_path.find('/annotations/')]\n",
    "    farl_path += f\"/timesteps/frame_00000/gaussian_features.npy\"\n",
    "    \n",
    "    image_path = flame_params_path[:flame_params_path.find('/annotations/')]\n",
    "    image_path += f\"/timesteps/frame_00000/images-2x\"\n",
    "    input_serials = [\"221501007\"]\n",
    "    return face_dataset.get_projected_farl_features({'gaussian_features_path': farl_path, 'images_path': image_path}, camera_params, pointcloud, {serial: image for serial, image in images.items() if serial in input_serials})\n",
    "\n",
    "def do_all(path):\n",
    "    p1_pointcloud = get_aligned_pointcloud(path)\n",
    "    p1_camera_params = get_translated_camera_params(path)\n",
    "    p1_images = get_images(path, p1_camera_params)\n",
    "    colors = SH2RGB(get_colored_gaussians(path, np.array(p1_pointcloud.points), p1_camera_params, p1_images))*255\n",
    "    farl = get_farl_gaussians(path, np.array(p1_pointcloud.points), p1_camera_params, p1_images)\n",
    "    \n",
    "    return p1_pointcloud, colors, farl"
   ]
  },
  {
   "cell_type": "code",
   "execution_count": 3,
   "metadata": {},
   "outputs": [
    {
     "ename": "TypeError",
     "evalue": "create_flame_model() got an unexpected keyword argument 'upsample_flame_iterations'",
     "output_type": "error",
     "traceback": [
      "\u001b[0;31m---------------------------------------------------------------------------\u001b[0m",
      "\u001b[0;31mTypeError\u001b[0m                                 Traceback (most recent call last)",
      "Cell \u001b[0;32mIn[3], line 6\u001b[0m\n\u001b[1;32m      3\u001b[0m p3_path \u001b[38;5;241m=\u001b[39m \u001b[38;5;124m'\u001b[39m\u001b[38;5;124m/home/oroz/gaussian-splatting/3DSSL-SS24_Generalizable3DHeadReconstruction/data/032/sequences/SEN-10-port_strong_smokey/annotations/tracking/FLAME2023_v2/tracked_flame_params.npz\u001b[39m\u001b[38;5;124m'\u001b[39m\n\u001b[1;32m      4\u001b[0m p4_path \u001b[38;5;241m=\u001b[39m \u001b[38;5;124m'\u001b[39m\u001b[38;5;124m/home/oroz/gaussian-splatting/3DSSL-SS24_Generalizable3DHeadReconstruction/data/032/sequences/SEN-10-port_strong_smokey/annotations/tracking/FLAME2023_v2/tracked_flame_params.npz\u001b[39m\u001b[38;5;124m'\u001b[39m\n\u001b[0;32m----> 6\u001b[0m p1_pointcloud, colors, farl \u001b[38;5;241m=\u001b[39m \u001b[43mdo_all\u001b[49m\u001b[43m(\u001b[49m\u001b[43mp1_path\u001b[49m\u001b[43m)\u001b[49m\n\u001b[1;32m      8\u001b[0m plot \u001b[38;5;241m=\u001b[39m k3d\u001b[38;5;241m.\u001b[39mplot()\n\u001b[1;32m     10\u001b[0m color_map \u001b[38;5;241m=\u001b[39m [((\u001b[38;5;28mint\u001b[39m(r) \u001b[38;5;241m<<\u001b[39m \u001b[38;5;241m16\u001b[39m) \u001b[38;5;241m|\u001b[39m (\u001b[38;5;28mint\u001b[39m(g) \u001b[38;5;241m<<\u001b[39m \u001b[38;5;241m8\u001b[39m) \u001b[38;5;241m|\u001b[39m \u001b[38;5;28mint\u001b[39m(b)) \u001b[38;5;28;01mfor\u001b[39;00m r, g, b \u001b[38;5;129;01min\u001b[39;00m colors\u001b[38;5;241m.\u001b[39mtolist()]\n",
      "Cell \u001b[0;32mIn[2], line 43\u001b[0m, in \u001b[0;36mdo_all\u001b[0;34m(path)\u001b[0m\n\u001b[1;32m     42\u001b[0m \u001b[38;5;28;01mdef\u001b[39;00m \u001b[38;5;21mdo_all\u001b[39m(path):\n\u001b[0;32m---> 43\u001b[0m     p1_pointcloud \u001b[38;5;241m=\u001b[39m \u001b[43mget_aligned_pointcloud\u001b[49m\u001b[43m(\u001b[49m\u001b[43mpath\u001b[49m\u001b[43m)\u001b[49m\n\u001b[1;32m     44\u001b[0m     p1_camera_params \u001b[38;5;241m=\u001b[39m get_translated_camera_params(path)\n\u001b[1;32m     45\u001b[0m     p1_images \u001b[38;5;241m=\u001b[39m get_images(path, p1_camera_params)\n",
      "Cell \u001b[0;32mIn[2], line 4\u001b[0m, in \u001b[0;36mget_aligned_pointcloud\u001b[0;34m(flame_params_path)\u001b[0m\n\u001b[1;32m      3\u001b[0m \u001b[38;5;28;01mdef\u001b[39;00m \u001b[38;5;21mget_aligned_pointcloud\u001b[39m(flame_params_path):\n\u001b[0;32m----> 4\u001b[0m     vertices \u001b[38;5;241m=\u001b[39m \u001b[43mFlameModelCreation\u001b[49m\u001b[38;5;241;43m.\u001b[39;49m\u001b[43mcreate_flame_model\u001b[49m\u001b[43m(\u001b[49m\u001b[43mflame_params_path\u001b[49m\u001b[43m,\u001b[49m\u001b[43m \u001b[49m\u001b[43mupsample_flame_iterations\u001b[49m\u001b[38;5;241;43m=\u001b[39;49m\u001b[38;5;241;43m1\u001b[39;49m\u001b[43m)\u001b[49m\n\u001b[1;32m      5\u001b[0m     pointlcoud \u001b[38;5;241m=\u001b[39m BasicPointCloud(vertices, torch\u001b[38;5;241m.\u001b[39mrandn((\u001b[38;5;28mlen\u001b[39m(vertices), \u001b[38;5;241m3\u001b[39m)), \u001b[38;5;28;01mNone\u001b[39;00m)\n\u001b[1;32m      7\u001b[0m     \u001b[38;5;66;03m#new_pointcloud = FaceDataset.normalize_flame_and_cameras(None, pointlcoud, None)\u001b[39;00m\n",
      "\u001b[0;31mTypeError\u001b[0m: create_flame_model() got an unexpected keyword argument 'upsample_flame_iterations'"
     ]
    }
   ],
   "source": [
    "p1_path = '/home/oroz/gaussian-splatting/3DSSL-SS24_Generalizable3DHeadReconstruction/data/032/sequences/SEN-10-port_strong_smokey/annotations/tracking/FLAME2023_v2/tracked_flame_params.npz'\n",
    "p2_path = '/home/oroz/gaussian-splatting/3DSSL-SS24_Generalizable3DHeadReconstruction/data/032/sequences/SEN-10-port_strong_smokey/annotations/tracking/FLAME2023_v2/tracked_flame_params.npz'\n",
    "p3_path = '/home/oroz/gaussian-splatting/3DSSL-SS24_Generalizable3DHeadReconstruction/data/032/sequences/SEN-10-port_strong_smokey/annotations/tracking/FLAME2023_v2/tracked_flame_params.npz'\n",
    "p4_path = '/home/oroz/gaussian-splatting/3DSSL-SS24_Generalizable3DHeadReconstruction/data/032/sequences/SEN-10-port_strong_smokey/annotations/tracking/FLAME2023_v2/tracked_flame_params.npz'\n",
    "\n",
    "p1_pointcloud, colors, farl = do_all(p1_path)\n",
    "\n",
    "plot = k3d.plot()\n",
    "\n",
    "color_map = [((int(r) << 16) | (int(g) << 8) | int(b)) for r, g, b in colors.tolist()]\n",
    "\n",
    "plot += k3d.points(p1_pointcloud.points, point_size=0.0025, colors=color_map)\n",
    "#plot += k3d.points(p2_pointcloud.points, point_size=0.01, color=0x00ff00)\n",
    "#plot += k3d.points(p3_pointcloud.points, point_size=0.01, color=0x0000ff)\n",
    "#plot += k3d.points(p4_pointcloud.points, point_size=0.01, color=0x000000)\n",
    "\n",
    "plot.display()"
   ]
  },
  {
   "cell_type": "code",
   "execution_count": null,
   "metadata": {},
   "outputs": [
    {
     "data": {
      "application/vnd.jupyter.widget-view+json": {
       "model_id": "c77f801e3976432e86da5266bab916de",
       "version_major": 2,
       "version_minor": 0
      },
      "text/plain": [
       "Output()"
      ]
     },
     "metadata": {},
     "output_type": "display_data"
    }
   ],
   "source": [
    "plot = k3d.plot()\n",
    "\n",
    "def interpolate_color(value):\n",
    "    start_color = [0, 0, 0]\n",
    "    end_color = [0, 255, 0]\n",
    "    r = start_color[0] + (end_color[0] - start_color[0]) * value\n",
    "    g = start_color[1] + (end_color[1] - start_color[1]) * value\n",
    "    b = start_color[2] + (end_color[2] - start_color[2]) * value\n",
    "    return int(r) << 16 | int(g) << 8 | int(b)\n",
    "\n",
    "color_map = [interpolate_color(gaussian[769]) for gaussian in farl.tolist()]\n",
    "\n",
    "plot += k3d.points(p1_pointcloud.points, point_size=0.01, colors=color_map)\n",
    "\n",
    "plot.display()"
   ]
  }
 ],
 "metadata": {
  "kernelspec": {
   "display_name": "gaussian_splatting",
   "language": "python",
   "name": "python3"
  },
  "language_info": {
   "codemirror_mode": {
    "name": "ipython",
    "version": 3
   },
   "file_extension": ".py",
   "mimetype": "text/x-python",
   "name": "python",
   "nbconvert_exporter": "python",
   "pygments_lexer": "ipython3",
   "version": "3.8.19"
  }
 },
 "nbformat": 4,
 "nbformat_minor": 2
}
